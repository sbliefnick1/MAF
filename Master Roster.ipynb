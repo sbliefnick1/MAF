{
 "metadata": {
  "name": "",
  "signature": "sha256:388395387a26eed31813bb4f4154516fab7ec61e25ccdd7c5260a74b5f0519c1"
 },
 "nbformat": 3,
 "nbformat_minor": 0,
 "worksheets": [
  {
   "cells": [
    {
     "cell_type": "code",
     "collapsed": false,
     "input": [
      "import csv\n",
      "from Tkinter import Tk\n",
      "import tkFileDialog\n",
      "import os\n",
      "import pandas as pd\n",
      "import numpy as np\n",
      "\n",
      "user = 'sbliefnick'\n",
      "folder = 'C:\\Users\\%s\\Desktop\\A2 Data Exports' % (user)\n",
      "saveTo = 'C:\\Users\\%s\\Desktop\\A2 MAF\\Master Roster.csv' % (user)\n",
      "\n",
      "#-----------functions-----------------------------------------------------------------------------------\n",
      "def list_files(dir):\n",
      "    '''Given a filepath, walks through the directories and appends all filenames to a list.'''\n",
      "    r = []                                                                                                            \n",
      "    subdirs = [x[0] for x in os.walk(dir)]                                                                            \n",
      "    for subdir in subdirs:                                                                                            \n",
      "        files = os.walk(subdir).next()[2]                                                                             \n",
      "        if (len(files) > 0):                                                                                          \n",
      "            for file in files:                                                                                        \n",
      "                r.append(subdir + \"/\" + file)                                                                         \n",
      "    return r  \n",
      "            \n",
      "def set_column_sequence(dataframe, seq):\n",
      "    '''Takes a dataframe and a subsequence of its columns, returns dataframe with seq as first columns'''\n",
      "    cols = seq[:] # copy so we don't mutate seq\n",
      "    for x in dataframe.columns:\n",
      "        if x not in cols:\n",
      "            cols.append(x)\n",
      "    return dataframe[cols]\n",
      "#---------------------------------------------------------------------------------------------------------\n",
      "\n",
      "\n",
      "allFiles = list_files(folder)\n",
      "\n",
      "#master data frame to contain all scores\n",
      "masterRoster = pd.DataFrame()\n",
      "\n",
      "for file in allFiles:\n",
      "    print(file)\n",
      "    \n",
      "    if ' ELA ' in file:\n",
      "        subject = 'ELA'\n",
      "    elif ' Math ' in file:\n",
      "        subject = 'Math'\n",
      "        \n",
      "    proficiency = subject + ' Previous State Level'\n",
      "    period = subject + ' Period'\n",
      "    teacherFN = subject + ' Teacher First Name'\n",
      "    teacherLN = subject + ' Teacher Last Name'\n",
      "    \n",
      "    \n",
      "    # get rid of unnecessary headers; only read in relevant columns\n",
      "    df = pd.read_csv(file, header=3, usecols=['School ANET ID', 'School Name', 'State', 'District', 'Cluster', \\\n",
      "                                              'Student ANET ID', 'Interim Grade', 'Race', 'Free Reduced Lunch', \\\n",
      "                                              'Limited English Proficiency', 'Special Education', \\\n",
      "                                              proficiency, period, teacherFN, teacherLN], \\\n",
      "                            na_values=['null', 'N/A'])\n",
      "    \n",
      "    #add in a column for Subject\n",
      "    df['Subject'] = subject\n",
      "    \n",
      "    #add in a column for Cycle\n",
      "    if '-A1 ' in file:\n",
      "        cycle = 'A1'\n",
      "    elif '-A2 ' in file:\n",
      "        cycle = 'A2'\n",
      "    elif '-A3 ' in file:\n",
      "        cycle = 'A3'\n",
      "    elif '-A4 ' in file:\n",
      "        cycle = 'A4'\n",
      "    df['Cycle'] = cycle\n",
      "        \n",
      "    masterRoster = masterRoster.append(df)\n",
      "\n",
      "#rename some columns\n",
      "masterRoster.rename(columns={'School ANET ID': 'School ID', 'State': 'Network State', 'Cluster': 'District Cluster'}, inplace=True)\n",
      "    \n",
      "#rearrange column order\n",
      "preferredColumns = ['School ID', 'School Name', 'Network State', 'District', 'District Cluster', \\\n",
      "                    'Student ANET ID', 'Interim Grade', 'Subject', 'Cycle', 'Race', 'Free Reduced Lunch', \\\n",
      "                    'Limited English Proficiency', 'Special Education']\n",
      "\n",
      "masterRoster = set_column_sequence(masterRoster, preferredColumns)\n",
      "\n",
      "\n",
      "masterRoster.to_csv(saveTo, index=False)"
     ],
     "language": "python",
     "metadata": {},
     "outputs": [
      {
       "output_type": "stream",
       "stream": "stdout",
       "text": [
        "C:\\Users\\sbliefnick\\Desktop\\A2 Data Exports/StudentResponses-A2 CC 2nd ELA 14-15-(A189866)3927280369220491616.csv\n",
        "C:\\Users\\sbliefnick\\Desktop\\A2 Data Exports/StudentResponses-A2 CC 2nd Math Regular 14-15-(A184286)8937734751838069026.csv"
       ]
      },
      {
       "output_type": "stream",
       "stream": "stdout",
       "text": [
        "\n",
        "C:\\Users\\sbliefnick\\Desktop\\A2 Data Exports/StudentResponses-A2 CC 3rd ELA Cross-Network 14-15-(A185552)6085944019787117914.csv"
       ]
      },
      {
       "output_type": "stream",
       "stream": "stdout",
       "text": [
        "\n",
        "C:\\Users\\sbliefnick\\Desktop\\A2 Data Exports/StudentResponses-A2 CC 3rd Math Citywide 14-15-(A195105)8037503979708511379.csv"
       ]
      },
      {
       "output_type": "stream",
       "stream": "stdout",
       "text": [
        "\n",
        "C:\\Users\\sbliefnick\\Desktop\\A2 Data Exports/StudentResponses-A2 CC 4th ELA Cross-Network 14-15-(A185556)7818522363298607006.csv"
       ]
      },
      {
       "output_type": "stream",
       "stream": "stdout",
       "text": [
        "\n",
        "C:\\Users\\sbliefnick\\Desktop\\A2 Data Exports/StudentResponses-A2 CC 4th Math Citywide 14-15-(A195109)1315307084970825854.csv"
       ]
      },
      {
       "output_type": "stream",
       "stream": "stdout",
       "text": [
        "\n",
        "C:\\Users\\sbliefnick\\Desktop\\A2 Data Exports/StudentResponses-A2 CC 5th ELA Cross-Network 14-15-(A185560)2319747338367019313.csv"
       ]
      },
      {
       "output_type": "stream",
       "stream": "stdout",
       "text": [
        "\n",
        "C:\\Users\\sbliefnick\\Desktop\\A2 Data Exports/StudentResponses-A2 CC 5th Math Citywide 14-15-(A195113)5897747667172578376.csv"
       ]
      },
      {
       "output_type": "stream",
       "stream": "stdout",
       "text": [
        "\n",
        "C:\\Users\\sbliefnick\\Desktop\\A2 Data Exports/StudentResponses-A2 CC 6th ELA Cross-Network 14-15-(A185564)122474005969440244.csv"
       ]
      },
      {
       "output_type": "stream",
       "stream": "stdout",
       "text": [
        "\n",
        "C:\\Users\\sbliefnick\\Desktop\\A2 Data Exports/StudentResponses-A2 CC 6th Math Citywide 14-15-(A195117)3452651429210139953.csv"
       ]
      },
      {
       "output_type": "stream",
       "stream": "stdout",
       "text": [
        "\n",
        "C:\\Users\\sbliefnick\\Desktop\\A2 Data Exports/StudentResponses-A2 CC 7th ELA Cross-Network 14-15-(A185568)5322759692644999185.csv"
       ]
      },
      {
       "output_type": "stream",
       "stream": "stdout",
       "text": [
        "\n",
        "C:\\Users\\sbliefnick\\Desktop\\A2 Data Exports/StudentResponses-A2 CC 7th Math Citywide 14-15-(A195122)78717347429657575.csv"
       ]
      },
      {
       "output_type": "stream",
       "stream": "stdout",
       "text": [
        "\n",
        "C:\\Users\\sbliefnick\\Desktop\\A2 Data Exports/StudentResponses-A2 CC 8th ELA Cross-Network 14-15-(A185572)1719745563385181824.csv"
       ]
      },
      {
       "output_type": "stream",
       "stream": "stdout",
       "text": [
        "\n",
        "C:\\Users\\sbliefnick\\Desktop\\A2 Data Exports/StudentResponses-A2 CC 8th Math Citywide 14-15-(A195126)4236936140153256226.csv"
       ]
      },
      {
       "output_type": "stream",
       "stream": "stdout",
       "text": [
        "\n",
        "C:\\Users\\sbliefnick\\Desktop\\A2 Data Exports/StudentResponses-A2 CO 3rd ELA Regular 14-15-(A189543)347499507673633616.csv"
       ]
      },
      {
       "output_type": "stream",
       "stream": "stdout",
       "text": [
        "\n",
        "C:\\Users\\sbliefnick\\Desktop\\A2 Data Exports/StudentResponses-A2 CO 3rd Math Regular 14-15-(A184597)1048846480244582106.csv"
       ]
      },
      {
       "output_type": "stream",
       "stream": "stdout",
       "text": [
        "\n",
        "C:\\Users\\sbliefnick\\Desktop\\A2 Data Exports/StudentResponses-A2 CO 4th ELA Regular 14-15-(A189547)771687842400443797.csv"
       ]
      },
      {
       "output_type": "stream",
       "stream": "stdout",
       "text": [
        "\n",
        "C:\\Users\\sbliefnick\\Desktop\\A2 Data Exports/StudentResponses-A2 CO 4th Math Regular 14-15-(A185038)5941182416815938234.csv"
       ]
      },
      {
       "output_type": "stream",
       "stream": "stdout",
       "text": [
        "\n",
        "C:\\Users\\sbliefnick\\Desktop\\A2 Data Exports/StudentResponses-A2 CO 5th ELA Regular 14-15-(A189551)4474885928239452726.csv"
       ]
      },
      {
       "output_type": "stream",
       "stream": "stdout",
       "text": [
        "\n",
        "C:\\Users\\sbliefnick\\Desktop\\A2 Data Exports/StudentResponses-A2 CO 5th Math Regular 14-15-(A184601)9219161073607431186.csv"
       ]
      },
      {
       "output_type": "stream",
       "stream": "stdout",
       "text": [
        "\n",
        "C:\\Users\\sbliefnick\\Desktop\\A2 Data Exports/StudentResponses-A2 CO 6th ELA Regular 14-15-(A189555)7526336452782443865.csv"
       ]
      },
      {
       "output_type": "stream",
       "stream": "stdout",
       "text": [
        "\n",
        "C:\\Users\\sbliefnick\\Desktop\\A2 Data Exports/StudentResponses-A2 CO 6th Math Regular 14-15-(A185044)7813249382077391884.csv"
       ]
      },
      {
       "output_type": "stream",
       "stream": "stdout",
       "text": [
        "\n",
        "C:\\Users\\sbliefnick\\Desktop\\A2 Data Exports/StudentResponses-A2 CO 7th ELA Regular 14-15-(A189559)8620459029502995859.csv"
       ]
      },
      {
       "output_type": "stream",
       "stream": "stdout",
       "text": [
        "\n",
        "C:\\Users\\sbliefnick\\Desktop\\A2 Data Exports/StudentResponses-A2 CO 7th Math Regular 14-15-(A184614)5372143489904786593.csv"
       ]
      },
      {
       "output_type": "stream",
       "stream": "stdout",
       "text": [
        "\n",
        "C:\\Users\\sbliefnick\\Desktop\\A2 Data Exports/StudentResponses-A2 CO 8th ELA Regular 14-15-(A189564)8495021038928073974.csv"
       ]
      },
      {
       "output_type": "stream",
       "stream": "stdout",
       "text": [
        "\n",
        "C:\\Users\\sbliefnick\\Desktop\\A2 Data Exports/StudentResponses-A2 CO 8th Math Regular 14-15-(A184624)4886793826408031996.csv"
       ]
      },
      {
       "output_type": "stream",
       "stream": "stdout",
       "text": [
        "\n",
        "C:\\Users\\sbliefnick\\Desktop\\A2 Data Exports/StudentResponses-A2 IL 3rd Math Regular 14-15-(A178228)7758264725466686055.csv"
       ]
      },
      {
       "output_type": "stream",
       "stream": "stdout",
       "text": [
        "\n",
        "C:\\Users\\sbliefnick\\Desktop\\A2 Data Exports/StudentResponses-A2 IL 4th Math Regular 14-15-(A178242)8524962228028844908.csv"
       ]
      },
      {
       "output_type": "stream",
       "stream": "stdout",
       "text": [
        "\n",
        "C:\\Users\\sbliefnick\\Desktop\\A2 Data Exports/StudentResponses-A2 IL 5th Math Regular 14-15-(A178253)2490227042486645507.csv"
       ]
      },
      {
       "output_type": "stream",
       "stream": "stdout",
       "text": [
        "\n",
        "C:\\Users\\sbliefnick\\Desktop\\A2 Data Exports/StudentResponses-A2 IL 6th Math Regular 14-15-(A178259)5006563785785370537.csv"
       ]
      },
      {
       "output_type": "stream",
       "stream": "stdout",
       "text": [
        "\n",
        "C:\\Users\\sbliefnick\\Desktop\\A2 Data Exports/StudentResponses-A2 IL 7th Math Regular 14-15-(A178265)302608172014104341.csv"
       ]
      },
      {
       "output_type": "stream",
       "stream": "stdout",
       "text": [
        "\n",
        "C:\\Users\\sbliefnick\\Desktop\\A2 Data Exports/StudentResponses-A2 IL 8th Math Regular 14-15-(A178272)6394260982951524373.csv"
       ]
      },
      {
       "output_type": "stream",
       "stream": "stdout",
       "text": [
        "\n",
        "C:\\Users\\sbliefnick\\Desktop\\A2 Data Exports/StudentResponses-A2 LA 3rd ELA Regular 14-15-(A185055)2778762248999102665.csv"
       ]
      },
      {
       "output_type": "stream",
       "stream": "stdout",
       "text": [
        "\n",
        "C:\\Users\\sbliefnick\\Desktop\\A2 Data Exports/StudentResponses-A2 LA 3rd Math Regular 14-15-(A185654)164377392740989495.csv"
       ]
      },
      {
       "output_type": "stream",
       "stream": "stdout",
       "text": [
        "\n",
        "C:\\Users\\sbliefnick\\Desktop\\A2 Data Exports/StudentResponses-A2 LA 4th ELA Regular 14-15-(A185067)5936044484970142013.csv"
       ]
      },
      {
       "output_type": "stream",
       "stream": "stdout",
       "text": [
        "\n",
        "C:\\Users\\sbliefnick\\Desktop\\A2 Data Exports/StudentResponses-A2 LA 4th Math Regular 14-15-(A185686)1706366410928564877.csv"
       ]
      },
      {
       "output_type": "stream",
       "stream": "stdout",
       "text": [
        "\n",
        "C:\\Users\\sbliefnick\\Desktop\\A2 Data Exports/StudentResponses-A2 LA 5th ELA Regular 14-15-(A185074)3314743015300354492.csv"
       ]
      },
      {
       "output_type": "stream",
       "stream": "stdout",
       "text": [
        "\n",
        "C:\\Users\\sbliefnick\\Desktop\\A2 Data Exports/StudentResponses-A2 LA 5th Math Regular 14-15-(A185693)7976857010040304172.csv"
       ]
      },
      {
       "output_type": "stream",
       "stream": "stdout",
       "text": [
        "\n",
        "C:\\Users\\sbliefnick\\Desktop\\A2 Data Exports/StudentResponses-A2 LA 6th ELA Regular 14-15-(A185442)4525937527992213099.csv"
       ]
      },
      {
       "output_type": "stream",
       "stream": "stdout",
       "text": [
        "\n",
        "C:\\Users\\sbliefnick\\Desktop\\A2 Data Exports/StudentResponses-A2 LA 6th Math Regular 14-15-(A185714)2009644695886058309.csv"
       ]
      },
      {
       "output_type": "stream",
       "stream": "stdout",
       "text": [
        "\n",
        "C:\\Users\\sbliefnick\\Desktop\\A2 Data Exports/StudentResponses-A2 LA 7th ELA Regular 14-15-(A185446)5472882346394995840.csv"
       ]
      },
      {
       "output_type": "stream",
       "stream": "stdout",
       "text": [
        "\n",
        "C:\\Users\\sbliefnick\\Desktop\\A2 Data Exports/StudentResponses-A2 LA 7th Math Regular 14-15-(A185752)5670353546352409597.csv"
       ]
      },
      {
       "output_type": "stream",
       "stream": "stdout",
       "text": [
        "\n",
        "C:\\Users\\sbliefnick\\Desktop\\A2 Data Exports/StudentResponses-A2 LA 8th ELA Regular 14-15-(A185463)1390220772198623569.csv"
       ]
      },
      {
       "output_type": "stream",
       "stream": "stdout",
       "text": [
        "\n",
        "C:\\Users\\sbliefnick\\Desktop\\A2 Data Exports/StudentResponses-A2 LA 8th Math Regular 14-15-(A185759)8202342893295428018.csv"
       ]
      },
      {
       "output_type": "stream",
       "stream": "stdout",
       "text": [
        "\n",
        "C:\\Users\\sbliefnick\\Desktop\\A2 Data Exports/StudentResponses-A2 MA 3rd ELA Regular 14-15-(A185495)49288125589190659.csv"
       ]
      },
      {
       "output_type": "stream",
       "stream": "stdout",
       "text": [
        "\n",
        "C:\\Users\\sbliefnick\\Desktop\\A2 Data Exports/StudentResponses-A2 MA 3rd Math 5DP 14-15-(A178208)929056990375142081.csv"
       ]
      },
      {
       "output_type": "stream",
       "stream": "stdout",
       "text": [
        "\n",
        "C:\\Users\\sbliefnick\\Desktop\\A2 Data Exports/StudentResponses-A2 MA 3rd Math BPS 14-15-(A192323)8318726215476217456.csv"
       ]
      },
      {
       "output_type": "stream",
       "stream": "stdout",
       "text": [
        "\n",
        "C:\\Users\\sbliefnick\\Desktop\\A2 Data Exports/StudentResponses-A2 MA 3rd Math SPS 14-15-(A191743)2183669842119199882.csv"
       ]
      },
      {
       "output_type": "stream",
       "stream": "stdout",
       "text": [
        "\n",
        "C:\\Users\\sbliefnick\\Desktop\\A2 Data Exports/StudentResponses-A2 MA 3rd Math Statewide 14-15-(A176385)796639324272659877.csv"
       ]
      },
      {
       "output_type": "stream",
       "stream": "stdout",
       "text": [
        "\n",
        "C:\\Users\\sbliefnick\\Desktop\\A2 Data Exports/StudentResponses-A2 MA 4th ELA 14-15-(A185500)995083654047554521.csv"
       ]
      },
      {
       "output_type": "stream",
       "stream": "stdout",
       "text": [
        "\n",
        "C:\\Users\\sbliefnick\\Desktop\\A2 Data Exports/StudentResponses-A2 MA 4th Math 5DP 14-15-(A178336)8766226415391898287.csv"
       ]
      },
      {
       "output_type": "stream",
       "stream": "stdout",
       "text": [
        "\n",
        "C:\\Users\\sbliefnick\\Desktop\\A2 Data Exports/StudentResponses-A2 MA 4th Math BPS 14-15-(A192328)5708998112021049161.csv"
       ]
      },
      {
       "output_type": "stream",
       "stream": "stdout",
       "text": [
        "\n",
        "C:\\Users\\sbliefnick\\Desktop\\A2 Data Exports/StudentResponses-A2 MA 4th Math SPS 14-15-(A191747)976176613744795609.csv"
       ]
      },
      {
       "output_type": "stream",
       "stream": "stdout",
       "text": [
        "\n",
        "C:\\Users\\sbliefnick\\Desktop\\A2 Data Exports/StudentResponses-A2 MA 4th Math Statewide 14-15-(A177728)757820677278003347.csv"
       ]
      },
      {
       "output_type": "stream",
       "stream": "stdout",
       "text": [
        "\n",
        "C:\\Users\\sbliefnick\\Desktop\\A2 Data Exports/StudentResponses-A2 MA 5th ELA Regular 14-15-(A185505)4878729032985185859.csv"
       ]
      },
      {
       "output_type": "stream",
       "stream": "stdout",
       "text": [
        "\n",
        "C:\\Users\\sbliefnick\\Desktop\\A2 Data Exports/StudentResponses-A2 MA 5th Math 5DP 14-15-(A178433)910045679277842441.csv"
       ]
      },
      {
       "output_type": "stream",
       "stream": "stdout",
       "text": [
        "\n",
        "C:\\Users\\sbliefnick\\Desktop\\A2 Data Exports/StudentResponses-A2 MA 5th Math BPS 14-15-(A192332)3261891785784983920.csv"
       ]
      },
      {
       "output_type": "stream",
       "stream": "stdout",
       "text": [
        "\n",
        "C:\\Users\\sbliefnick\\Desktop\\A2 Data Exports/StudentResponses-A2 MA 5th Math SPS 14-15-(A191751)2077263822853863417.csv"
       ]
      },
      {
       "output_type": "stream",
       "stream": "stdout",
       "text": [
        "\n",
        "C:\\Users\\sbliefnick\\Desktop\\A2 Data Exports/StudentResponses-A2 MA 5th Math Statewide 14-15-(A177735)6667698514934641714.csv"
       ]
      },
      {
       "output_type": "stream",
       "stream": "stdout",
       "text": [
        "\n",
        "C:\\Users\\sbliefnick\\Desktop\\A2 Data Exports/StudentResponses-A2 MA 6th ELA Regular 14-15-(A185510)8247951665756617164.csv"
       ]
      },
      {
       "output_type": "stream",
       "stream": "stdout",
       "text": [
        "\n",
        "C:\\Users\\sbliefnick\\Desktop\\A2 Data Exports/StudentResponses-A2 MA 6th Math 5DP 14-15-(A178617)282482405815064762.csv"
       ]
      },
      {
       "output_type": "stream",
       "stream": "stdout",
       "text": [
        "\n",
        "C:\\Users\\sbliefnick\\Desktop\\A2 Data Exports/StudentResponses-A2 MA 6th Math BPS 14-15-(A192336)905060673810130111.csv"
       ]
      },
      {
       "output_type": "stream",
       "stream": "stdout",
       "text": [
        "\n",
        "C:\\Users\\sbliefnick\\Desktop\\A2 Data Exports/StudentResponses-A2 MA 6th Math Statewide 14-15-(A177741)3062138109745857452.csv"
       ]
      },
      {
       "output_type": "stream",
       "stream": "stdout",
       "text": [
        "\n",
        "C:\\Users\\sbliefnick\\Desktop\\A2 Data Exports/StudentResponses-A2 MA 6th Math Statewide 14-15-(A177741)6707982951624972507.csv"
       ]
      },
      {
       "output_type": "stream",
       "stream": "stdout",
       "text": [
        "\n",
        "C:\\Users\\sbliefnick\\Desktop\\A2 Data Exports/StudentResponses-A2 MA 7th ELA Regular 14-15-(A185514)4243975101127207004.csv"
       ]
      },
      {
       "output_type": "stream",
       "stream": "stdout",
       "text": [
        "\n",
        "C:\\Users\\sbliefnick\\Desktop\\A2 Data Exports/StudentResponses-A2 MA 7th Math 5DP 14-15-(A178666)2385193810574987446.csv"
       ]
      },
      {
       "output_type": "stream",
       "stream": "stdout",
       "text": [
        "\n",
        "C:\\Users\\sbliefnick\\Desktop\\A2 Data Exports/StudentResponses-A2 MA 7th Math BPS 14-15-(A192341)8700769292256513972.csv"
       ]
      },
      {
       "output_type": "stream",
       "stream": "stdout",
       "text": [
        "\n",
        "C:\\Users\\sbliefnick\\Desktop\\A2 Data Exports/StudentResponses-A2 MA 7th Math Statewide 14-15-(A177745)6579461454508623757.csv"
       ]
      },
      {
       "output_type": "stream",
       "stream": "stdout",
       "text": [
        "\n",
        "C:\\Users\\sbliefnick\\Desktop\\A2 Data Exports/StudentResponses-A2 MA 7th Math Statewide 14-15-(A177745)667720645180149293.csv"
       ]
      },
      {
       "output_type": "stream",
       "stream": "stdout",
       "text": [
        "\n",
        "C:\\Users\\sbliefnick\\Desktop\\A2 Data Exports/StudentResponses-A2 MA 8th ELA Regular 14-15-(A185519)5324622383487383986.csv"
       ]
      },
      {
       "output_type": "stream",
       "stream": "stdout",
       "text": [
        "\n",
        "C:\\Users\\sbliefnick\\Desktop\\A2 Data Exports/StudentResponses-A2 MA 8th Math 5DP 14-15-(A178690)4982299447921941811.csv"
       ]
      },
      {
       "output_type": "stream",
       "stream": "stdout",
       "text": [
        "\n",
        "C:\\Users\\sbliefnick\\Desktop\\A2 Data Exports/StudentResponses-A2 MA 8th Math BPS 14-15-(A192345)8387857310765716669.csv"
       ]
      },
      {
       "output_type": "stream",
       "stream": "stdout",
       "text": [
        "\n",
        "C:\\Users\\sbliefnick\\Desktop\\A2 Data Exports/StudentResponses-A2 MA 8th Math Statewide 14-15-(A177751)4175433622380477214.csv"
       ]
      },
      {
       "output_type": "stream",
       "stream": "stdout",
       "text": [
        "\n",
        "C:\\Users\\sbliefnick\\Desktop\\A2 Data Exports/StudentResponses-A2 MA 8th Math Statewide 14-15-(A177751)9125771867953666364.csv"
       ]
      },
      {
       "output_type": "stream",
       "stream": "stdout",
       "text": [
        "\n",
        "C:\\Users\\sbliefnick\\Desktop\\A2 Data Exports/StudentResponses-A2 NY 3rd ELA 14-15-A189411-lsong@achievementnetwork.org-1415973997627-csv.csv"
       ]
      },
      {
       "output_type": "stream",
       "stream": "stdout",
       "text": [
        "\n",
        "C:\\Users\\sbliefnick\\Desktop\\A2 Data Exports/StudentResponses-A2 NY 3rd Math Regular 14-15-(A178779)3418324232035272320.csv"
       ]
      },
      {
       "output_type": "stream",
       "stream": "stdout",
       "text": [
        "\n",
        "C:\\Users\\sbliefnick\\Desktop\\A2 Data Exports/StudentResponses-A2 NY 4th ELA 14-15-A189415-lsong@achievementnetwork.org-1415973906186-csv.csv"
       ]
      },
      {
       "output_type": "stream",
       "stream": "stdout",
       "text": [
        "\n",
        "C:\\Users\\sbliefnick\\Desktop\\A2 Data Exports/StudentResponses-A2 NY 4th Math Regular 14-15-(A178827)3221147437040726717.csv"
       ]
      },
      {
       "output_type": "stream",
       "stream": "stdout",
       "text": [
        "\n",
        "C:\\Users\\sbliefnick\\Desktop\\A2 Data Exports/StudentResponses-A2 NY 5th ELA 14-15-A189421-lsong@achievementnetwork.org-1415973983131-csv.csv"
       ]
      },
      {
       "output_type": "stream",
       "stream": "stdout",
       "text": [
        "\n",
        "C:\\Users\\sbliefnick\\Desktop\\A2 Data Exports/StudentResponses-A2 NY 5th Math Regular 14-15-(A178842)7555127705006409825.csv"
       ]
      },
      {
       "output_type": "stream",
       "stream": "stdout",
       "text": [
        "\n",
        "C:\\Users\\sbliefnick\\Desktop\\A2 Data Exports/StudentResponses-A2 NY 6th ELA 14-15-A189430-lsong@achievementnetwork.org-1415975749706-csv.csv"
       ]
      },
      {
       "output_type": "stream",
       "stream": "stdout",
       "text": [
        "\n",
        "C:\\Users\\sbliefnick\\Desktop\\A2 Data Exports/StudentResponses-A2 NY 6th Math Regular 14-15-(A178862)4107937123985747854.csv"
       ]
      },
      {
       "output_type": "stream",
       "stream": "stdout",
       "text": [
        "\n",
        "C:\\Users\\sbliefnick\\Desktop\\A2 Data Exports/StudentResponses-A2 NY 7th ELA 14-15-A189435-lsong@achievementnetwork.org-1415973973158-csv.csv"
       ]
      },
      {
       "output_type": "stream",
       "stream": "stdout",
       "text": [
        "\n",
        "C:\\Users\\sbliefnick\\Desktop\\A2 Data Exports/StudentResponses-A2 NY 7th Math Regular 14-15-(A178866)4924157071762373360.csv"
       ]
      },
      {
       "output_type": "stream",
       "stream": "stdout",
       "text": [
        "\n",
        "C:\\Users\\sbliefnick\\Desktop\\A2 Data Exports/StudentResponses-A2 NY 8th ELA 14-15-A189444-lsong@achievementnetwork.org-1415973960415-csv.csv"
       ]
      },
      {
       "output_type": "stream",
       "stream": "stdout",
       "text": [
        "\n",
        "C:\\Users\\sbliefnick\\Desktop\\A2 Data Exports/StudentResponses-A2 NY 8th Math Regular 14-15-(A178870)5648024890906622707.csv"
       ]
      },
      {
       "output_type": "stream",
       "stream": "stdout",
       "text": [
        "\n",
        "C:\\Users\\sbliefnick\\Desktop\\A2 Data Exports/StudentResponses-A2 TN 3rd ELA Regular 14-15-(A185524)8671297699007067592.csv"
       ]
      },
      {
       "output_type": "stream",
       "stream": "stdout",
       "text": [
        "\n",
        "C:\\Users\\sbliefnick\\Desktop\\A2 Data Exports/StudentResponses-A2 TN 3rd Math Regular 14-15-(A178706)7355825063678323315.csv"
       ]
      },
      {
       "output_type": "stream",
       "stream": "stdout",
       "text": [
        "\n",
        "C:\\Users\\sbliefnick\\Desktop\\A2 Data Exports/StudentResponses-A2 TN 4th ELA Regular 14-15-(A185528)3758535303131993394.csv"
       ]
      },
      {
       "output_type": "stream",
       "stream": "stdout",
       "text": [
        "\n",
        "C:\\Users\\sbliefnick\\Desktop\\A2 Data Exports/StudentResponses-A2 TN 4th Math Regular 14-15-(A178981)6765870186214997526.csv"
       ]
      },
      {
       "output_type": "stream",
       "stream": "stdout",
       "text": [
        "\n",
        "C:\\Users\\sbliefnick\\Desktop\\A2 Data Exports/StudentResponses-A2 TN 5th ELA Regular 14-15-(A185533)8273042433372794337.csv"
       ]
      },
      {
       "output_type": "stream",
       "stream": "stdout",
       "text": [
        "\n",
        "C:\\Users\\sbliefnick\\Desktop\\A2 Data Exports/StudentResponses-A2 TN 5th Math Regular 14-15-(A178990)920722850746587719.csv"
       ]
      },
      {
       "output_type": "stream",
       "stream": "stdout",
       "text": [
        "\n",
        "C:\\Users\\sbliefnick\\Desktop\\A2 Data Exports/StudentResponses-A2 TN 6th ELA Regular 14-15-(A185537)1366745634729818536.csv"
       ]
      },
      {
       "output_type": "stream",
       "stream": "stdout",
       "text": [
        "\n",
        "C:\\Users\\sbliefnick\\Desktop\\A2 Data Exports/StudentResponses-A2 TN 6th Math Regular 14-15-(A178995)1680777101086230106.csv"
       ]
      },
      {
       "output_type": "stream",
       "stream": "stdout",
       "text": [
        "\n",
        "C:\\Users\\sbliefnick\\Desktop\\A2 Data Exports/StudentResponses-A2 TN 7th ELA Regular 14-15-(A185542)1874041415477750837.csv"
       ]
      },
      {
       "output_type": "stream",
       "stream": "stdout",
       "text": [
        "\n",
        "C:\\Users\\sbliefnick\\Desktop\\A2 Data Exports/StudentResponses-A2 TN 7th Math Regular 14-15-(A178999)5638530226300385812.csv"
       ]
      },
      {
       "output_type": "stream",
       "stream": "stdout",
       "text": [
        "\n",
        "C:\\Users\\sbliefnick\\Desktop\\A2 Data Exports/StudentResponses-A2 TN 8th ELA Regular 14-15-(A185546)4220670892252429687.csv"
       ]
      },
      {
       "output_type": "stream",
       "stream": "stdout",
       "text": [
        "\n",
        "C:\\Users\\sbliefnick\\Desktop\\A2 Data Exports/StudentResponses-A2 TN 8th Math Regular 14-15-(A179007)3467448363181931937.csv"
       ]
      },
      {
       "output_type": "stream",
       "stream": "stdout",
       "text": [
        "\n"
       ]
      },
      {
       "output_type": "stream",
       "stream": "stderr",
       "text": [
        "C:\\Anaconda\\lib\\site-packages\\pandas\\io\\parsers.py:1130: DtypeWarning: Columns (25) have mixed types. Specify dtype option on import or set low_memory=False.\n",
        "  data = self._reader.read(nrows)\n"
       ]
      }
     ],
     "prompt_number": 1
    },
    {
     "cell_type": "code",
     "collapsed": false,
     "input": [],
     "language": "python",
     "metadata": {},
     "outputs": []
    }
   ],
   "metadata": {}
  }
 ]
}